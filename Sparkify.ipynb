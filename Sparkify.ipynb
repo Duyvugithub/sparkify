{
 "cells": [
  {
   "cell_type": "markdown",
   "metadata": {},
   "source": [
    "# Sparkify Project Workspace\n",
    "This workspace contains a tiny subset (128MB) of the full dataset available (12GB). Feel free to use this workspace to build your project, or to explore a smaller subset with Spark before deploying your cluster on the cloud. Instructions for setting up your Spark cluster is included in the last lesson of the Extracurricular Spark Course content.\n",
    "\n",
    "You can follow the steps below to guide your data analysis and model building portion of this project."
   ]
  },
  {
   "cell_type": "code",
   "execution_count": 35,
   "metadata": {},
   "outputs": [],
   "source": [
    "# import libraries\n",
    "import math\n",
    "import pandas as pd\n",
    "import matplotlib.pyplot as plt\n",
    "import seaborn as sns\n",
    "from pyspark.sql import SparkSession, Window\n",
    "from pyspark.sql import functions as F\n",
    "\n",
    "from pyspark.ml import Pipeline\n",
    "from pyspark.ml.feature import VectorAssembler, StandardScaler\n",
    "from pyspark.ml.classification import LogisticRegression, RandomForestClassifier\n",
    "from pyspark.ml.evaluation import MulticlassClassificationEvaluator, BinaryClassificationEvaluator\n",
    "from pyspark.ml.tuning import CrossValidator, ParamGridBuilder"
   ]
  },
  {
   "cell_type": "code",
   "execution_count": 2,
   "metadata": {},
   "outputs": [],
   "source": [
    "# create a Spark session\n",
    "spark = SparkSession.builder.appName(\"Sparkify\").getOrCreate()"
   ]
  },
  {
   "cell_type": "markdown",
   "metadata": {},
   "source": [
    "# Load and Clean Dataset\n",
    "In this workspace, the mini-dataset file is `mini_sparkify_event_data.json`. Load and clean the dataset, checking for invalid or missing data - for example, records without userids or sessionids. "
   ]
  },
  {
   "cell_type": "code",
   "execution_count": 3,
   "metadata": {
    "scrolled": true
   },
   "outputs": [
    {
     "name": "stdout",
     "output_type": "stream",
     "text": [
      "Shape of data:  (286500, 18)\n",
      "root\n",
      " |-- artist: string (nullable = true)\n",
      " |-- auth: string (nullable = true)\n",
      " |-- firstName: string (nullable = true)\n",
      " |-- gender: string (nullable = true)\n",
      " |-- itemInSession: long (nullable = true)\n",
      " |-- lastName: string (nullable = true)\n",
      " |-- length: double (nullable = true)\n",
      " |-- level: string (nullable = true)\n",
      " |-- location: string (nullable = true)\n",
      " |-- method: string (nullable = true)\n",
      " |-- page: string (nullable = true)\n",
      " |-- registration: long (nullable = true)\n",
      " |-- sessionId: long (nullable = true)\n",
      " |-- song: string (nullable = true)\n",
      " |-- status: long (nullable = true)\n",
      " |-- ts: long (nullable = true)\n",
      " |-- userAgent: string (nullable = true)\n",
      " |-- userId: string (nullable = true)\n",
      "\n"
     ]
    }
   ],
   "source": [
    "df = spark.read.json(\"mini_sparkify_event_data.json\")\n",
    "print(\"Shape of data: \", (df.count(), len(df.columns)))\n",
    "df.printSchema()"
   ]
  },
  {
   "cell_type": "code",
   "execution_count": 4,
   "metadata": {},
   "outputs": [
    {
     "name": "stdout",
     "output_type": "stream",
     "text": [
      "+----------------+---------+---------+------+-------------+--------+---------+-----+--------------------+------+--------+-------------+---------+--------------------+------+-------------+--------------------+------+\n",
      "|          artist|     auth|firstName|gender|itemInSession|lastName|   length|level|            location|method|    page| registration|sessionId|                song|status|           ts|           userAgent|userId|\n",
      "+----------------+---------+---------+------+-------------+--------+---------+-----+--------------------+------+--------+-------------+---------+--------------------+------+-------------+--------------------+------+\n",
      "|  Martha Tilston|Logged In|    Colin|     M|           50| Freeman|277.89016| paid|     Bakersfield, CA|   PUT|NextSong|1538173362000|       29|           Rockpools|   200|1538352117000|Mozilla/5.0 (Wind...|    30|\n",
      "|Five Iron Frenzy|Logged In|    Micah|     M|           79|    Long|236.09424| free|Boston-Cambridge-...|   PUT|NextSong|1538331630000|        8|              Canada|   200|1538352180000|\"Mozilla/5.0 (Win...|     9|\n",
      "|    Adam Lambert|Logged In|    Colin|     M|           51| Freeman| 282.8273| paid|     Bakersfield, CA|   PUT|NextSong|1538173362000|       29|   Time For Miracles|   200|1538352394000|Mozilla/5.0 (Wind...|    30|\n",
      "|          Enigma|Logged In|    Micah|     M|           80|    Long|262.71302| free|Boston-Cambridge-...|   PUT|NextSong|1538331630000|        8|Knocking On Forbi...|   200|1538352416000|\"Mozilla/5.0 (Win...|     9|\n",
      "|       Daft Punk|Logged In|    Colin|     M|           52| Freeman|223.60771| paid|     Bakersfield, CA|   PUT|NextSong|1538173362000|       29|Harder Better Fas...|   200|1538352676000|Mozilla/5.0 (Wind...|    30|\n",
      "+----------------+---------+---------+------+-------------+--------+---------+-----+--------------------+------+--------+-------------+---------+--------------------+------+-------------+--------------------+------+\n",
      "only showing top 5 rows\n",
      "\n"
     ]
    }
   ],
   "source": [
    "# Display top 5 rows to have overview\n",
    "df.show(5)"
   ]
  },
  {
   "cell_type": "markdown",
   "metadata": {},
   "source": [
    "### Null values"
   ]
  },
  {
   "cell_type": "code",
   "execution_count": 5,
   "metadata": {},
   "outputs": [
    {
     "name": "stdout",
     "output_type": "stream",
     "text": [
      "+------+----+---------+------+-------------+--------+------+-----+--------+------+----+------------+---------+----+------+---+---------+------+\n",
      "|artist|auth|firstName|gender|itemInSession|lastName|length|level|location|method|page|registration|sessionId|song|status| ts|userAgent|userId|\n",
      "+------+----+---------+------+-------------+--------+------+-----+--------+------+----+------------+---------+----+------+---+---------+------+\n",
      "|  20.4| 0.0|      2.9|   2.9|          0.0|     2.9|  20.4|  0.0|     2.9|   0.0| 0.0|         2.9|      0.0|20.4|   0.0|0.0|      2.9|   2.9|\n",
      "+------+----+---------+------+-------------+--------+------+-----+--------+------+----+------------+---------+----+------+---+---------+------+\n",
      "\n"
     ]
    }
   ],
   "source": [
    "# Calculate total percent null in each column\n",
    "total_rows = df.count()\n",
    "df_null = df.select([F.round((F.count(F.when(F.isnan(c) | F.col(c).isNull() | (F.col(c) == ''), c))/total_rows*100), 1).alias(c)\n",
    "                            for c in df.columns])\n",
    "df_null.show()"
   ]
  },
  {
   "cell_type": "markdown",
   "metadata": {},
   "source": [
    "It seems abnormal for the columns `userId, firstName, gender,` and `lastName` to have approximately 2.9% null values, as each row represents a unique user. Therefore, in this case, I think we should drop the rows with null values in those columns."
   ]
  },
  {
   "cell_type": "code",
   "execution_count": 6,
   "metadata": {},
   "outputs": [
    {
     "name": "stdout",
     "output_type": "stream",
     "text": [
      "+------+\n",
      "|userID|\n",
      "+------+\n",
      "|      |\n",
      "|    10|\n",
      "|   100|\n",
      "|100001|\n",
      "|100002|\n",
      "|100003|\n",
      "|100004|\n",
      "|100005|\n",
      "|100006|\n",
      "|100007|\n",
      "|100008|\n",
      "|100009|\n",
      "|100010|\n",
      "|100011|\n",
      "|100012|\n",
      "|100013|\n",
      "|100014|\n",
      "|100015|\n",
      "|100016|\n",
      "|100017|\n",
      "+------+\n",
      "only showing top 20 rows\n",
      "\n"
     ]
    }
   ],
   "source": [
    "# Investigate userID column\n",
    "df.select(\"userID\").dropDuplicates().sort(\"userID\").show()"
   ]
  },
  {
   "cell_type": "markdown",
   "metadata": {},
   "source": [
    "It seems that in the userID column, we have empty strings representing null values"
   ]
  },
  {
   "cell_type": "code",
   "execution_count": 7,
   "metadata": {},
   "outputs": [
    {
     "name": "stdout",
     "output_type": "stream",
     "text": [
      "Number of row before filter:  286500\n",
      "Number of row after filter:  278154\n",
      "Total row have been dropped:  8346\n"
     ]
    }
   ],
   "source": [
    "# Filter row that have userId null\n",
    "df = df.filter(df['userId'] != '')\n",
    "df = df.dropna(how='any', subset=['userId'])\n",
    "print(\"Number of row before filter: \", total_rows)\n",
    "print(\"Number of row after filter: \", df.count())\n",
    "print(\"Total row have been dropped: \", total_rows - df.count())"
   ]
  },
  {
   "cell_type": "markdown",
   "metadata": {},
   "source": [
    "### Categorical values"
   ]
  },
  {
   "cell_type": "code",
   "execution_count": 8,
   "metadata": {
    "scrolled": true
   },
   "outputs": [
    {
     "data": {
      "text/plain": [
       "['artist',\n",
       " 'auth',\n",
       " 'firstName',\n",
       " 'gender',\n",
       " 'lastName',\n",
       " 'level',\n",
       " 'location',\n",
       " 'method',\n",
       " 'page',\n",
       " 'song',\n",
       " 'userAgent',\n",
       " 'userId']"
      ]
     },
     "execution_count": 8,
     "metadata": {},
     "output_type": "execute_result"
    }
   ],
   "source": [
    "str_cols = [column[0] for column in df.dtypes if column[1] == 'string']\n",
    "str_cols"
   ]
  },
  {
   "cell_type": "code",
   "execution_count": 9,
   "metadata": {},
   "outputs": [
    {
     "name": "stdout",
     "output_type": "stream",
     "text": [
      "+-------+-----------------+---------+---------+------+--------+------+\n",
      "|summary|           artist|     auth|firstName|gender|lastName| level|\n",
      "+-------+-----------------+---------+---------+------+--------+------+\n",
      "|  count|           228108|   278154|   278154|278154|  278154|278154|\n",
      "|   mean|551.0852017937219|     null|     null|  null|    null|  null|\n",
      "| stddev|1217.769307916138|     null|     null|  null|    null|  null|\n",
      "|    min|              !!!|Cancelled| Adelaida|     F|   Adams|  free|\n",
      "|    max|ÃÂlafur Arnalds|Logged In|   Zyonna|     M|  Wright|  paid|\n",
      "+-------+-----------------+---------+---------+------+--------+------+\n",
      "\n"
     ]
    }
   ],
   "source": [
    "# Split column to haft for better visualize\n",
    "df[str_cols[:6]].describe().show()"
   ]
  },
  {
   "cell_type": "code",
   "execution_count": 10,
   "metadata": {},
   "outputs": [
    {
     "name": "stdout",
     "output_type": "stream",
     "text": [
      "+-------+-----------------+------+-------+--------------------+--------------------+------------------+\n",
      "|summary|         location|method|   page|                song|           userAgent|            userId|\n",
      "+-------+-----------------+------+-------+--------------------+--------------------+------------------+\n",
      "|  count|           278154|278154| 278154|              228108|              278154|            278154|\n",
      "|   mean|             null|  null|   null|            Infinity|                null| 59682.02278593872|\n",
      "| stddev|             null|  null|   null|                 NaN|                null|109091.94999910535|\n",
      "|    min|       Albany, OR|   GET|  About|\u001c\n",
      "ÃÂg ÃÂtti Gr...|\"Mozilla/5.0 (Mac...|                10|\n",
      "|    max|Winston-Salem, NC|   PUT|Upgrade|ÃÂau hafa slopp...|Mozilla/5.0 (comp...|                99|\n",
      "+-------+-----------------+------+-------+--------------------+--------------------+------------------+\n",
      "\n"
     ]
    }
   ],
   "source": [
    "# Split column to haft for better visualize\n",
    "df[str_cols[6:]].describe().show()"
   ]
  },
  {
   "cell_type": "markdown",
   "metadata": {},
   "source": [
    "### Numeric value"
   ]
  },
  {
   "cell_type": "code",
   "execution_count": 11,
   "metadata": {},
   "outputs": [
    {
     "data": {
      "text/plain": [
       "['itemInSession', 'length', 'registration', 'sessionId', 'status', 'ts']"
      ]
     },
     "execution_count": 11,
     "metadata": {},
     "output_type": "execute_result"
    }
   ],
   "source": [
    "num_cols = [column for column in df.columns if column not in str_cols]\n",
    "num_cols"
   ]
  },
  {
   "cell_type": "code",
   "execution_count": 12,
   "metadata": {},
   "outputs": [
    {
     "name": "stdout",
     "output_type": "stream",
     "text": [
      "+-------+------------------+------------------+--------------------+------------------+------------------+--------------------+\n",
      "|summary|     itemInSession|            length|        registration|         sessionId|            status|                  ts|\n",
      "+-------+------------------+------------------+--------------------+------------------+------------------+--------------------+\n",
      "|  count|            278154|            228108|              278154|            278154|            278154|              278154|\n",
      "|   mean|114.89918174824018|249.11718197783375|1.535358834085557...|1042.5616241362698|209.10321620397335|1.540958915431858E12|\n",
      "| stddev| 129.8517293994901| 99.23517921058324| 3.291321616327434E9| 726.5010362219824|30.151388851327788|1.5068287123339083E9|\n",
      "|    min|                 0|           0.78322|       1521380675000|                 1|               200|       1538352117000|\n",
      "|    max|              1321|        3024.66567|       1543247354000|              2474|               404|       1543799476000|\n",
      "+-------+------------------+------------------+--------------------+------------------+------------------+--------------------+\n",
      "\n"
     ]
    }
   ],
   "source": [
    "df[num_cols].describe().show()"
   ]
  },
  {
   "cell_type": "markdown",
   "metadata": {},
   "source": [
    "We have `ts` as a timestamp column, but it is currently stored as a numeric value. Therefore, we need to convert it into a proper timestamp format."
   ]
  },
  {
   "cell_type": "markdown",
   "metadata": {},
   "source": [
    "#### Process for Timestamp column"
   ]
  },
  {
   "cell_type": "code",
   "execution_count": 13,
   "metadata": {},
   "outputs": [
    {
     "name": "stdout",
     "output_type": "stream",
     "text": [
      "+----------------+---------+---------+------+-------------+--------+---------+-----+--------------------+------+--------+-------------+---------+-----------------+------+-------------------+--------------------+------+\n",
      "|          artist|     auth|firstName|gender|itemInSession|lastName|   length|level|            location|method|    page| registration|sessionId|             song|status|                 ts|           userAgent|userId|\n",
      "+----------------+---------+---------+------+-------------+--------+---------+-----+--------------------+------+--------+-------------+---------+-----------------+------+-------------------+--------------------+------+\n",
      "|  Martha Tilston|Logged In|    Colin|     M|           50| Freeman|277.89016| paid|     Bakersfield, CA|   PUT|NextSong|1538173362000|       29|        Rockpools|   200|2018-10-01 00:01:57|Mozilla/5.0 (Wind...|    30|\n",
      "|Five Iron Frenzy|Logged In|    Micah|     M|           79|    Long|236.09424| free|Boston-Cambridge-...|   PUT|NextSong|1538331630000|        8|           Canada|   200|2018-10-01 00:03:00|\"Mozilla/5.0 (Win...|     9|\n",
      "|    Adam Lambert|Logged In|    Colin|     M|           51| Freeman| 282.8273| paid|     Bakersfield, CA|   PUT|NextSong|1538173362000|       29|Time For Miracles|   200|2018-10-01 00:06:34|Mozilla/5.0 (Wind...|    30|\n",
      "+----------------+---------+---------+------+-------------+--------+---------+-----+--------------------+------+--------+-------------+---------+-----------------+------+-------------------+--------------------+------+\n",
      "only showing top 3 rows\n",
      "\n"
     ]
    }
   ],
   "source": [
    "# Convert ts column from numeric to timestamp\n",
    "df = df.withColumn('ts', F.from_unixtime(F.col('ts')/1000))\n",
    "df.show(3)"
   ]
  },
  {
   "cell_type": "markdown",
   "metadata": {},
   "source": [
    "# Exploratory Data Analysis"
   ]
  },
  {
   "cell_type": "markdown",
   "metadata": {},
   "source": [
    "### Define Churn"
   ]
  },
  {
   "cell_type": "code",
   "execution_count": 14,
   "metadata": {},
   "outputs": [
    {
     "name": "stdout",
     "output_type": "stream",
     "text": [
      "+--------------------+\n",
      "|                page|\n",
      "+--------------------+\n",
      "|              Cancel|\n",
      "|    Submit Downgrade|\n",
      "|         Thumbs Down|\n",
      "|                Home|\n",
      "|           Downgrade|\n",
      "|         Roll Advert|\n",
      "|              Logout|\n",
      "|       Save Settings|\n",
      "|Cancellation Conf...|\n",
      "|               About|\n",
      "|            Settings|\n",
      "|     Add to Playlist|\n",
      "|          Add Friend|\n",
      "|            NextSong|\n",
      "|           Thumbs Up|\n",
      "|                Help|\n",
      "|             Upgrade|\n",
      "|               Error|\n",
      "|      Submit Upgrade|\n",
      "+--------------------+\n",
      "\n"
     ]
    }
   ],
   "source": [
    "# Investigate list of events we have \n",
    "df.select(\"page\").dropDuplicates().show()"
   ]
  },
  {
   "cell_type": "code",
   "execution_count": 15,
   "metadata": {},
   "outputs": [
    {
     "name": "stdout",
     "output_type": "stream",
     "text": [
      "+----------------+---------+---------+------+-------------+--------+---------+-----+--------------------+------+--------+-------------+---------+-----------------+------+-------------------+--------------------+------+-----+\n",
      "|          artist|     auth|firstName|gender|itemInSession|lastName|   length|level|            location|method|    page| registration|sessionId|             song|status|                 ts|           userAgent|userId|churn|\n",
      "+----------------+---------+---------+------+-------------+--------+---------+-----+--------------------+------+--------+-------------+---------+-----------------+------+-------------------+--------------------+------+-----+\n",
      "|  Martha Tilston|Logged In|    Colin|     M|           50| Freeman|277.89016| paid|     Bakersfield, CA|   PUT|NextSong|1538173362000|       29|        Rockpools|   200|2018-10-01 00:01:57|Mozilla/5.0 (Wind...|    30|    0|\n",
      "|Five Iron Frenzy|Logged In|    Micah|     M|           79|    Long|236.09424| free|Boston-Cambridge-...|   PUT|NextSong|1538331630000|        8|           Canada|   200|2018-10-01 00:03:00|\"Mozilla/5.0 (Win...|     9|    0|\n",
      "|    Adam Lambert|Logged In|    Colin|     M|           51| Freeman| 282.8273| paid|     Bakersfield, CA|   PUT|NextSong|1538173362000|       29|Time For Miracles|   200|2018-10-01 00:06:34|Mozilla/5.0 (Wind...|    30|    0|\n",
      "+----------------+---------+---------+------+-------------+--------+---------+-----+--------------------+------+--------+-------------+---------+-----------------+------+-------------------+--------------------+------+-----+\n",
      "only showing top 3 rows\n",
      "\n"
     ]
    }
   ],
   "source": [
    "# Create \"Churn\" column\n",
    "df = df.withColumn(\"churn\", F.when(F.col(\"page\") == 'Cancellation Confirmation', F.lit(1)).otherwise(0))\n",
    "df.show(3)"
   ]
  },
  {
   "cell_type": "code",
   "execution_count": 16,
   "metadata": {
    "scrolled": true
   },
   "outputs": [
    {
     "name": "stdout",
     "output_type": "stream",
     "text": [
      "+------+\n",
      "|userId|\n",
      "+------+\n",
      "|   125|\n",
      "|    51|\n",
      "|    54|\n",
      "|100014|\n",
      "|   101|\n",
      "+------+\n",
      "only showing top 5 rows\n",
      "\n"
     ]
    }
   ],
   "source": [
    "# Show some sample churn user\n",
    "df.filter(df.churn == 1).select('userId').dropDuplicates().show(5)"
   ]
  },
  {
   "cell_type": "code",
   "execution_count": 17,
   "metadata": {},
   "outputs": [
    {
     "name": "stdout",
     "output_type": "stream",
     "text": [
      "+--------------------+---------+---------+------+-------------+--------+---------+-----+------------------+------+--------+-------------+---------+--------------------+------+-------------------+--------------------+------+-----+\n",
      "|              artist|     auth|firstName|gender|itemInSession|lastName|   length|level|          location|method|    page| registration|sessionId|                song|status|                 ts|           userAgent|userId|churn|\n",
      "+--------------------+---------+---------+------+-------------+--------+---------+-----+------------------+------+--------+-------------+---------+--------------------+------+-------------------+--------------------+------+-----+\n",
      "| Christopher O'Riley|Logged In|    Mason|     M|            0|    Hart|337.91955| free|Corpus Christi, TX|   PUT|NextSong|1533157139000|      174|    paranoid android|   200|2018-10-12 04:05:44|\"Mozilla/5.0 (Mac...|   125|    0|\n",
      "|The Notorious B.I.G.|Logged In|    Mason|     M|            1|    Hart|230.03383| free|Corpus Christi, TX|   PUT|NextSong|1533157139000|      174|Hypnotize(Album V...|   200|2018-10-12 04:11:21|\"Mozilla/5.0 (Mac...|   125|    0|\n",
      "|           Betty Boo|Logged In|    Mason|     M|            2|    Hart| 203.2322| free|Corpus Christi, TX|   PUT|NextSong|1533157139000|      174|       I'm On My Way|   200|2018-10-12 04:15:11|\"Mozilla/5.0 (Mac...|   125|    0|\n",
      "|          Nickelback|Logged In|    Mason|     M|            3|    Hart|210.83383| free|Corpus Christi, TX|   PUT|NextSong|1533157139000|      174|Leader Of Men (Al...|   200|2018-10-12 04:18:34|\"Mozilla/5.0 (Mac...|   125|    0|\n",
      "| Ready For The World|Logged In|    Mason|     M|            4|    Hart|391.26159| free|Corpus Christi, TX|   PUT|NextSong|1533157139000|      174|       Love You Down|   200|2018-10-12 04:22:04|\"Mozilla/5.0 (Mac...|   125|    0|\n",
      "+--------------------+---------+---------+------+-------------+--------+---------+-----+------------------+------+--------+-------------+---------+--------------------+------+-------------------+--------------------+------+-----+\n",
      "only showing top 5 rows\n",
      "\n"
     ]
    }
   ],
   "source": [
    "# Visualize 1 user to check current value\n",
    "df.filter(df.userId == 125).show(5)"
   ]
  },
  {
   "cell_type": "markdown",
   "metadata": {},
   "source": [
    "Although this user has canceled, the past data does not reflect this behavior. Therefore, we need to propagate the churn = 1 label from the future to the past, so that all records for users who have a cancellation confirmation will have churn = 1. This will help improve our analysis by providing a more accurate representation of churn behavior across the user's entire history."
   ]
  },
  {
   "cell_type": "code",
   "execution_count": 18,
   "metadata": {},
   "outputs": [
    {
     "name": "stdout",
     "output_type": "stream",
     "text": [
      "+--------------+---------+---------+------+-------------+--------+---------+-----+------------------+------+--------------------+-------------+---------+---------------+------+-------------------+--------------------+------+-----+\n",
      "|        artist|     auth|firstName|gender|itemInSession|lastName|   length|level|          location|method|                page| registration|sessionId|           song|status|                 ts|           userAgent|userId|churn|\n",
      "+--------------+---------+---------+------+-------------+--------+---------+-----+------------------+------+--------------------+-------------+---------+---------------+------+-------------------+--------------------+------+-----+\n",
      "|          null|Logged In|    Mason|     M|            9|    Hart|     null| free|Corpus Christi, TX|   PUT|              Cancel|1533157139000|      174|           null|   307|2018-10-12 04:35:18|\"Mozilla/5.0 (Mac...|   125|    1|\n",
      "|          null|Cancelled|    Mason|     M|           10|    Hart|     null| free|Corpus Christi, TX|   GET|Cancellation Conf...|1533157139000|      174|           null|   200|2018-10-12 04:35:18|\"Mozilla/5.0 (Mac...|   125|    1|\n",
      "|          null|Logged In|    Mason|     M|            8|    Hart|     null| free|Corpus Christi, TX|   GET|         Roll Advert|1533157139000|      174|           null|   200|2018-10-12 04:35:17|\"Mozilla/5.0 (Mac...|   125|    1|\n",
      "|        Bonobo|Logged In|    Mason|     M|            7|    Hart|323.81342| free|Corpus Christi, TX|   PUT|            NextSong|1533157139000|      174|           Kota|   200|2018-10-12 04:35:06|\"Mozilla/5.0 (Mac...|   125|    1|\n",
      "|Robert Johnson|Logged In|    Mason|     M|            6|    Hart|178.41587| free|Corpus Christi, TX|   PUT|            NextSong|1533157139000|      174|They're Red Hot|   200|2018-10-12 04:32:08|\"Mozilla/5.0 (Mac...|   125|    1|\n",
      "+--------------+---------+---------+------+-------------+--------+---------+-----+------------------+------+--------------------+-------------+---------+---------------+------+-------------------+--------------------+------+-----+\n",
      "only showing top 5 rows\n",
      "\n"
     ]
    }
   ],
   "source": [
    "# Spread Churn = 1 to user have been \"Cancellation Confirmation\"\n",
    "spread_window = Window.partitionBy(\"userId\").orderBy(F.col(\"ts\").desc()).rangeBetween(Window.unboundedPreceding, 0)\n",
    "df_clean = df.withColumn(\"churn\", F.max(\"churn\").over(spread_window))\n",
    "\n",
    "# Visualize 1 user to check after apply spread\n",
    "df_clean.filter(df_clean.userId == 125).show(5)"
   ]
  },
  {
   "cell_type": "markdown",
   "metadata": {},
   "source": [
    "### Explore Data\n",
    "Once you've defined churn, perform some exploratory data analysis to observe the behavior for users who stayed vs users who churned. You can start by exploring aggregates on these two groups of users, observing how much of a specific action they experienced per a certain time unit or number of songs played."
   ]
  },
  {
   "cell_type": "markdown",
   "metadata": {},
   "source": [
    "#### Aggregates number of user each group"
   ]
  },
  {
   "cell_type": "code",
   "execution_count": 19,
   "metadata": {},
   "outputs": [
    {
     "name": "stdout",
     "output_type": "stream",
     "text": [
      "+-----+------+-------+\n",
      "|churn| count|percent|\n",
      "+-----+------+-------+\n",
      "|    1| 44864|  16.13|\n",
      "|    0|233290|  83.87|\n",
      "+-----+------+-------+\n",
      "\n"
     ]
    }
   ],
   "source": [
    "# Percentage of each group in our dataset\n",
    "per_df = df_clean.groupBy(\"churn\").count()\n",
    "per_df = per_df.withColumn(\"percent\", F.round(F.col(\"count\")/df.count()*100, 2))\n",
    "per_df.show()"
   ]
  },
  {
   "cell_type": "code",
   "execution_count": 20,
   "metadata": {},
   "outputs": [
    {
     "name": "stdout",
     "output_type": "stream",
     "text": [
      "+-----+-----+-------+\n",
      "|churn|count|percent|\n",
      "+-----+-----+-------+\n",
      "|    1|   52|  23.11|\n",
      "|    0|  173|  76.89|\n",
      "+-----+-----+-------+\n",
      "\n"
     ]
    }
   ],
   "source": [
    "# Percentage of each user in our dataset\n",
    "user_churn_df = df_clean.select(\"userId\", \"churn\").dropDuplicates()\n",
    "per_id_df = user_churn_df.groupBy(\"churn\").count()\n",
    "per_id_df = per_id_df.withColumn(\"percent\", F.round(F.col(\"count\")/user_churn_df.count()*100, 2))\n",
    "per_id_df.show()"
   ]
  },
  {
   "cell_type": "markdown",
   "metadata": {},
   "source": [
    "The gap between the two labels is significant, with about 16% of record having a `Cancellation Confirmation` compare to 83% of records doen't have a `Cancellation Confirmation`, and 23% user having a `Cancellation Confirmation` compare to 76%. Although there is some imbalance, it is not extremely severe. This imbalance could still impact the model's ability to predict churn effectively, as the majority class (non-churn) might dominate the predictions. \n",
    "\n",
    "It would be beneficial to explore strategies such as adjusting class weights, using resampling techniques, or employing algorithms designed to handle imbalanced data to improve the model's accuracy for both classes."
   ]
  },
  {
   "cell_type": "markdown",
   "metadata": {},
   "source": [
    "#### Number of song each group have been played"
   ]
  },
  {
   "cell_type": "code",
   "execution_count": 21,
   "metadata": {
    "scrolled": true
   },
   "outputs": [
    {
     "data": {
      "text/html": [
       "<div>\n",
       "<style scoped>\n",
       "    .dataframe tbody tr th:only-of-type {\n",
       "        vertical-align: middle;\n",
       "    }\n",
       "\n",
       "    .dataframe tbody tr th {\n",
       "        vertical-align: top;\n",
       "    }\n",
       "\n",
       "    .dataframe thead th {\n",
       "        text-align: right;\n",
       "    }\n",
       "</style>\n",
       "<table border=\"1\" class=\"dataframe\">\n",
       "  <thead>\n",
       "    <tr style=\"text-align: right;\">\n",
       "      <th></th>\n",
       "      <th>userId</th>\n",
       "      <th>churn</th>\n",
       "      <th>count</th>\n",
       "      <th>total_hours</th>\n",
       "    </tr>\n",
       "  </thead>\n",
       "  <tbody>\n",
       "    <tr>\n",
       "      <th>0</th>\n",
       "      <td>100010</td>\n",
       "      <td>0</td>\n",
       "      <td>381</td>\n",
       "      <td>6.694090e+04</td>\n",
       "    </tr>\n",
       "    <tr>\n",
       "      <th>1</th>\n",
       "      <td>200002</td>\n",
       "      <td>0</td>\n",
       "      <td>474</td>\n",
       "      <td>9.400888e+04</td>\n",
       "    </tr>\n",
       "    <tr>\n",
       "      <th>2</th>\n",
       "      <td>125</td>\n",
       "      <td>1</td>\n",
       "      <td>11</td>\n",
       "      <td>2.089113e+03</td>\n",
       "    </tr>\n",
       "    <tr>\n",
       "      <th>3</th>\n",
       "      <td>124</td>\n",
       "      <td>0</td>\n",
       "      <td>4825</td>\n",
       "      <td>1.012312e+06</td>\n",
       "    </tr>\n",
       "    <tr>\n",
       "      <th>4</th>\n",
       "      <td>51</td>\n",
       "      <td>1</td>\n",
       "      <td>2464</td>\n",
       "      <td>5.232758e+05</td>\n",
       "    </tr>\n",
       "    <tr>\n",
       "      <th>5</th>\n",
       "      <td>7</td>\n",
       "      <td>0</td>\n",
       "      <td>201</td>\n",
       "      <td>3.803409e+04</td>\n",
       "    </tr>\n",
       "    <tr>\n",
       "      <th>6</th>\n",
       "      <td>15</td>\n",
       "      <td>0</td>\n",
       "      <td>2278</td>\n",
       "      <td>4.773076e+05</td>\n",
       "    </tr>\n",
       "    <tr>\n",
       "      <th>7</th>\n",
       "      <td>54</td>\n",
       "      <td>1</td>\n",
       "      <td>3437</td>\n",
       "      <td>7.113449e+05</td>\n",
       "    </tr>\n",
       "    <tr>\n",
       "      <th>8</th>\n",
       "      <td>155</td>\n",
       "      <td>0</td>\n",
       "      <td>1002</td>\n",
       "      <td>1.987793e+05</td>\n",
       "    </tr>\n",
       "    <tr>\n",
       "      <th>9</th>\n",
       "      <td>100014</td>\n",
       "      <td>1</td>\n",
       "      <td>310</td>\n",
       "      <td>6.770347e+04</td>\n",
       "    </tr>\n",
       "    <tr>\n",
       "      <th>10</th>\n",
       "      <td>132</td>\n",
       "      <td>0</td>\n",
       "      <td>2304</td>\n",
       "      <td>4.831189e+05</td>\n",
       "    </tr>\n",
       "    <tr>\n",
       "      <th>11</th>\n",
       "      <td>154</td>\n",
       "      <td>0</td>\n",
       "      <td>118</td>\n",
       "      <td>2.066002e+04</td>\n",
       "    </tr>\n",
       "    <tr>\n",
       "      <th>12</th>\n",
       "      <td>101</td>\n",
       "      <td>1</td>\n",
       "      <td>2149</td>\n",
       "      <td>4.474640e+05</td>\n",
       "    </tr>\n",
       "    <tr>\n",
       "      <th>13</th>\n",
       "      <td>11</td>\n",
       "      <td>0</td>\n",
       "      <td>848</td>\n",
       "      <td>1.596700e+05</td>\n",
       "    </tr>\n",
       "    <tr>\n",
       "      <th>14</th>\n",
       "      <td>138</td>\n",
       "      <td>0</td>\n",
       "      <td>2469</td>\n",
       "      <td>5.124499e+05</td>\n",
       "    </tr>\n",
       "    <tr>\n",
       "      <th>15</th>\n",
       "      <td>300017</td>\n",
       "      <td>0</td>\n",
       "      <td>4428</td>\n",
       "      <td>8.974070e+05</td>\n",
       "    </tr>\n",
       "    <tr>\n",
       "      <th>16</th>\n",
       "      <td>100021</td>\n",
       "      <td>1</td>\n",
       "      <td>319</td>\n",
       "      <td>5.763318e+04</td>\n",
       "    </tr>\n",
       "    <tr>\n",
       "      <th>17</th>\n",
       "      <td>29</td>\n",
       "      <td>1</td>\n",
       "      <td>3603</td>\n",
       "      <td>7.545176e+05</td>\n",
       "    </tr>\n",
       "    <tr>\n",
       "      <th>18</th>\n",
       "      <td>69</td>\n",
       "      <td>0</td>\n",
       "      <td>1342</td>\n",
       "      <td>2.860640e+05</td>\n",
       "    </tr>\n",
       "    <tr>\n",
       "      <th>19</th>\n",
       "      <td>112</td>\n",
       "      <td>0</td>\n",
       "      <td>292</td>\n",
       "      <td>5.306275e+04</td>\n",
       "    </tr>\n",
       "    <tr>\n",
       "      <th>20</th>\n",
       "      <td>42</td>\n",
       "      <td>0</td>\n",
       "      <td>4257</td>\n",
       "      <td>8.817930e+05</td>\n",
       "    </tr>\n",
       "    <tr>\n",
       "      <th>21</th>\n",
       "      <td>73</td>\n",
       "      <td>1</td>\n",
       "      <td>457</td>\n",
       "      <td>9.424035e+04</td>\n",
       "    </tr>\n",
       "    <tr>\n",
       "      <th>22</th>\n",
       "      <td>87</td>\n",
       "      <td>1</td>\n",
       "      <td>1003</td>\n",
       "      <td>1.936400e+05</td>\n",
       "    </tr>\n",
       "    <tr>\n",
       "      <th>23</th>\n",
       "      <td>200010</td>\n",
       "      <td>0</td>\n",
       "      <td>317</td>\n",
       "      <td>6.077662e+04</td>\n",
       "    </tr>\n",
       "    <tr>\n",
       "      <th>24</th>\n",
       "      <td>64</td>\n",
       "      <td>0</td>\n",
       "      <td>68</td>\n",
       "      <td>1.153035e+04</td>\n",
       "    </tr>\n",
       "    <tr>\n",
       "      <th>25</th>\n",
       "      <td>3</td>\n",
       "      <td>1</td>\n",
       "      <td>254</td>\n",
       "      <td>5.442475e+04</td>\n",
       "    </tr>\n",
       "    <tr>\n",
       "      <th>26</th>\n",
       "      <td>113</td>\n",
       "      <td>0</td>\n",
       "      <td>1895</td>\n",
       "      <td>4.000941e+05</td>\n",
       "    </tr>\n",
       "    <tr>\n",
       "      <th>27</th>\n",
       "      <td>30</td>\n",
       "      <td>0</td>\n",
       "      <td>1775</td>\n",
       "      <td>3.598082e+05</td>\n",
       "    </tr>\n",
       "    <tr>\n",
       "      <th>28</th>\n",
       "      <td>34</td>\n",
       "      <td>0</td>\n",
       "      <td>73</td>\n",
       "      <td>1.293108e+04</td>\n",
       "    </tr>\n",
       "    <tr>\n",
       "      <th>29</th>\n",
       "      <td>133</td>\n",
       "      <td>0</td>\n",
       "      <td>44</td>\n",
       "      <td>8.029164e+03</td>\n",
       "    </tr>\n",
       "    <tr>\n",
       "      <th>...</th>\n",
       "      <td>...</td>\n",
       "      <td>...</td>\n",
       "      <td>...</td>\n",
       "      <td>...</td>\n",
       "    </tr>\n",
       "    <tr>\n",
       "      <th>195</th>\n",
       "      <td>83</td>\n",
       "      <td>0</td>\n",
       "      <td>1496</td>\n",
       "      <td>3.074112e+05</td>\n",
       "    </tr>\n",
       "    <tr>\n",
       "      <th>196</th>\n",
       "      <td>109</td>\n",
       "      <td>0</td>\n",
       "      <td>861</td>\n",
       "      <td>1.789609e+05</td>\n",
       "    </tr>\n",
       "    <tr>\n",
       "      <th>197</th>\n",
       "      <td>123</td>\n",
       "      <td>0</td>\n",
       "      <td>196</td>\n",
       "      <td>3.520445e+04</td>\n",
       "    </tr>\n",
       "    <tr>\n",
       "      <th>198</th>\n",
       "      <td>200022</td>\n",
       "      <td>0</td>\n",
       "      <td>456</td>\n",
       "      <td>8.594233e+04</td>\n",
       "    </tr>\n",
       "    <tr>\n",
       "      <th>199</th>\n",
       "      <td>13</td>\n",
       "      <td>0</td>\n",
       "      <td>1654</td>\n",
       "      <td>3.136390e+05</td>\n",
       "    </tr>\n",
       "    <tr>\n",
       "      <th>200</th>\n",
       "      <td>200019</td>\n",
       "      <td>0</td>\n",
       "      <td>639</td>\n",
       "      <td>1.218382e+05</td>\n",
       "    </tr>\n",
       "    <tr>\n",
       "      <th>201</th>\n",
       "      <td>14</td>\n",
       "      <td>0</td>\n",
       "      <td>1432</td>\n",
       "      <td>3.047786e+05</td>\n",
       "    </tr>\n",
       "    <tr>\n",
       "      <th>202</th>\n",
       "      <td>21</td>\n",
       "      <td>0</td>\n",
       "      <td>589</td>\n",
       "      <td>1.208552e+05</td>\n",
       "    </tr>\n",
       "    <tr>\n",
       "      <th>203</th>\n",
       "      <td>66</td>\n",
       "      <td>0</td>\n",
       "      <td>1288</td>\n",
       "      <td>2.605265e+05</td>\n",
       "    </tr>\n",
       "    <tr>\n",
       "      <th>204</th>\n",
       "      <td>91</td>\n",
       "      <td>0</td>\n",
       "      <td>3014</td>\n",
       "      <td>6.397865e+05</td>\n",
       "    </tr>\n",
       "    <tr>\n",
       "      <th>205</th>\n",
       "      <td>94</td>\n",
       "      <td>0</td>\n",
       "      <td>187</td>\n",
       "      <td>3.740872e+04</td>\n",
       "    </tr>\n",
       "    <tr>\n",
       "      <th>206</th>\n",
       "      <td>137</td>\n",
       "      <td>0</td>\n",
       "      <td>209</td>\n",
       "      <td>3.838588e+04</td>\n",
       "    </tr>\n",
       "    <tr>\n",
       "      <th>207</th>\n",
       "      <td>72</td>\n",
       "      <td>0</td>\n",
       "      <td>117</td>\n",
       "      <td>1.996104e+04</td>\n",
       "    </tr>\n",
       "    <tr>\n",
       "      <th>208</th>\n",
       "      <td>74</td>\n",
       "      <td>0</td>\n",
       "      <td>2887</td>\n",
       "      <td>6.018652e+05</td>\n",
       "    </tr>\n",
       "    <tr>\n",
       "      <th>209</th>\n",
       "      <td>300016</td>\n",
       "      <td>0</td>\n",
       "      <td>735</td>\n",
       "      <td>1.448366e+05</td>\n",
       "    </tr>\n",
       "    <tr>\n",
       "      <th>210</th>\n",
       "      <td>151</td>\n",
       "      <td>0</td>\n",
       "      <td>163</td>\n",
       "      <td>3.248114e+04</td>\n",
       "    </tr>\n",
       "    <tr>\n",
       "      <th>211</th>\n",
       "      <td>200015</td>\n",
       "      <td>1</td>\n",
       "      <td>349</td>\n",
       "      <td>6.102495e+04</td>\n",
       "    </tr>\n",
       "    <tr>\n",
       "      <th>212</th>\n",
       "      <td>129</td>\n",
       "      <td>1</td>\n",
       "      <td>412</td>\n",
       "      <td>8.120127e+04</td>\n",
       "    </tr>\n",
       "    <tr>\n",
       "      <th>213</th>\n",
       "      <td>76</td>\n",
       "      <td>0</td>\n",
       "      <td>272</td>\n",
       "      <td>5.322991e+04</td>\n",
       "    </tr>\n",
       "    <tr>\n",
       "      <th>214</th>\n",
       "      <td>2</td>\n",
       "      <td>0</td>\n",
       "      <td>899</td>\n",
       "      <td>1.886874e+05</td>\n",
       "    </tr>\n",
       "    <tr>\n",
       "      <th>215</th>\n",
       "      <td>100002</td>\n",
       "      <td>0</td>\n",
       "      <td>218</td>\n",
       "      <td>4.955992e+04</td>\n",
       "    </tr>\n",
       "    <tr>\n",
       "      <th>216</th>\n",
       "      <td>100018</td>\n",
       "      <td>0</td>\n",
       "      <td>1288</td>\n",
       "      <td>2.485303e+05</td>\n",
       "    </tr>\n",
       "    <tr>\n",
       "      <th>217</th>\n",
       "      <td>80</td>\n",
       "      <td>0</td>\n",
       "      <td>474</td>\n",
       "      <td>8.947102e+04</td>\n",
       "    </tr>\n",
       "    <tr>\n",
       "      <th>218</th>\n",
       "      <td>145</td>\n",
       "      <td>0</td>\n",
       "      <td>1347</td>\n",
       "      <td>2.869181e+05</td>\n",
       "    </tr>\n",
       "    <tr>\n",
       "      <th>219</th>\n",
       "      <td>50</td>\n",
       "      <td>0</td>\n",
       "      <td>651</td>\n",
       "      <td>1.227513e+05</td>\n",
       "    </tr>\n",
       "    <tr>\n",
       "      <th>220</th>\n",
       "      <td>45</td>\n",
       "      <td>0</td>\n",
       "      <td>1776</td>\n",
       "      <td>3.671382e+05</td>\n",
       "    </tr>\n",
       "    <tr>\n",
       "      <th>221</th>\n",
       "      <td>57</td>\n",
       "      <td>0</td>\n",
       "      <td>112</td>\n",
       "      <td>2.123602e+04</td>\n",
       "    </tr>\n",
       "    <tr>\n",
       "      <th>222</th>\n",
       "      <td>200021</td>\n",
       "      <td>1</td>\n",
       "      <td>1502</td>\n",
       "      <td>3.007182e+05</td>\n",
       "    </tr>\n",
       "    <tr>\n",
       "      <th>223</th>\n",
       "      <td>119</td>\n",
       "      <td>0</td>\n",
       "      <td>223</td>\n",
       "      <td>4.471795e+04</td>\n",
       "    </tr>\n",
       "    <tr>\n",
       "      <th>224</th>\n",
       "      <td>100001</td>\n",
       "      <td>1</td>\n",
       "      <td>187</td>\n",
       "      <td>3.507374e+04</td>\n",
       "    </tr>\n",
       "  </tbody>\n",
       "</table>\n",
       "<p>225 rows × 4 columns</p>\n",
       "</div>"
      ],
      "text/plain": [
       "     userId  churn  count   total_hours\n",
       "0    100010      0    381  6.694090e+04\n",
       "1    200002      0    474  9.400888e+04\n",
       "2       125      1     11  2.089113e+03\n",
       "3       124      0   4825  1.012312e+06\n",
       "4        51      1   2464  5.232758e+05\n",
       "5         7      0    201  3.803409e+04\n",
       "6        15      0   2278  4.773076e+05\n",
       "7        54      1   3437  7.113449e+05\n",
       "8       155      0   1002  1.987793e+05\n",
       "9    100014      1    310  6.770347e+04\n",
       "10      132      0   2304  4.831189e+05\n",
       "11      154      0    118  2.066002e+04\n",
       "12      101      1   2149  4.474640e+05\n",
       "13       11      0    848  1.596700e+05\n",
       "14      138      0   2469  5.124499e+05\n",
       "15   300017      0   4428  8.974070e+05\n",
       "16   100021      1    319  5.763318e+04\n",
       "17       29      1   3603  7.545176e+05\n",
       "18       69      0   1342  2.860640e+05\n",
       "19      112      0    292  5.306275e+04\n",
       "20       42      0   4257  8.817930e+05\n",
       "21       73      1    457  9.424035e+04\n",
       "22       87      1   1003  1.936400e+05\n",
       "23   200010      0    317  6.077662e+04\n",
       "24       64      0     68  1.153035e+04\n",
       "25        3      1    254  5.442475e+04\n",
       "26      113      0   1895  4.000941e+05\n",
       "27       30      0   1775  3.598082e+05\n",
       "28       34      0     73  1.293108e+04\n",
       "29      133      0     44  8.029164e+03\n",
       "..      ...    ...    ...           ...\n",
       "195      83      0   1496  3.074112e+05\n",
       "196     109      0    861  1.789609e+05\n",
       "197     123      0    196  3.520445e+04\n",
       "198  200022      0    456  8.594233e+04\n",
       "199      13      0   1654  3.136390e+05\n",
       "200  200019      0    639  1.218382e+05\n",
       "201      14      0   1432  3.047786e+05\n",
       "202      21      0    589  1.208552e+05\n",
       "203      66      0   1288  2.605265e+05\n",
       "204      91      0   3014  6.397865e+05\n",
       "205      94      0    187  3.740872e+04\n",
       "206     137      0    209  3.838588e+04\n",
       "207      72      0    117  1.996104e+04\n",
       "208      74      0   2887  6.018652e+05\n",
       "209  300016      0    735  1.448366e+05\n",
       "210     151      0    163  3.248114e+04\n",
       "211  200015      1    349  6.102495e+04\n",
       "212     129      1    412  8.120127e+04\n",
       "213      76      0    272  5.322991e+04\n",
       "214       2      0    899  1.886874e+05\n",
       "215  100002      0    218  4.955992e+04\n",
       "216  100018      0   1288  2.485303e+05\n",
       "217      80      0    474  8.947102e+04\n",
       "218     145      0   1347  2.869181e+05\n",
       "219      50      0    651  1.227513e+05\n",
       "220      45      0   1776  3.671382e+05\n",
       "221      57      0    112  2.123602e+04\n",
       "222  200021      1   1502  3.007182e+05\n",
       "223     119      0    223  4.471795e+04\n",
       "224  100001      1    187  3.507374e+04\n",
       "\n",
       "[225 rows x 4 columns]"
      ]
     },
     "execution_count": 21,
     "metadata": {},
     "output_type": "execute_result"
    }
   ],
   "source": [
    "# Prepare for visualize\n",
    "user_df = df_clean.groupBy(\"userId\", \"churn\").agg(F.count(F.col(\"sessionId\")).alias(\"count\"),\\\n",
    "                                                  F.sum('length').alias(\"total_hours\"))\n",
    "user_pd_df = user_df.toPandas()\n",
    "user_pd_df"
   ]
  },
  {
   "cell_type": "code",
   "execution_count": 22,
   "metadata": {},
   "outputs": [
    {
     "data": {
      "text/plain": [
       "Text(0.5,1,'Total Number of Time')"
      ]
     },
     "execution_count": 22,
     "metadata": {},
     "output_type": "execute_result"
    },
    {
     "data": {
      "image/png": "[encoded data removed]",
      "text/plain": [
       "<matplotlib.figure.Figure at 0x799cb5e34e10>"
      ]
     },
     "metadata": {
      "needs_background": "light"
     },
     "output_type": "display_data"
    }
   ],
   "source": [
    "# Plot configuration\n",
    "fig, axes = plt.subplots(1,2, figsize=(15,5))\n",
    "\n",
    "# Plot total number of records\n",
    "sns.boxplot(data = user_pd_df, x='churn', y='count', ax=axes[0])\n",
    "axes[0].set_title(\"Total Number of Records\")\n",
    "\n",
    "# Plot total number of times\n",
    "sns.boxplot(data = user_pd_df, x='churn', y='total_hours', ax=axes[1])\n",
    "axes[1].set_title(\"Total Number of Time\")"
   ]
  },
  {
   "cell_type": "markdown",
   "metadata": {},
   "source": [
    "As seen in the plots, there is a noticeable difference in behavior between the two groups. Users with a 'Cancellation Confirmation' (churn = 1) tend to have a lower total number of records and spend less total time compared to users who did not cancel (churn = 0). The median value for both metrics—total number of records and total time spent—is significantly lower for churned users. Additionally, churned users show less variation in their activity, with fewer outliers and a tighter distribution in both plots, suggesting that these users are more consistent in their limited engagement before canceling.\n",
    "\n",
    "On the other hand, non-churned users (churn = 0) have higher medians and greater variation, which might indicate a wider range of engagement patterns, with some users interacting heavily with the service. This difference in behavior could suggest that lower engagement over time is a potential indicator of churn, which could be valuable for developing predictive models."
   ]
  },
  {
   "cell_type": "markdown",
   "metadata": {},
   "source": [
    "#### The distribution of events"
   ]
  },
  {
   "cell_type": "code",
   "execution_count": 23,
   "metadata": {
    "scrolled": false
   },
   "outputs": [
    {
     "data": {
      "text/plain": [
       "array(['Thumbs Up', 'Upgrade', 'Logout', 'Add Friend', 'Error', 'Home',\n",
       "       'NextSong', 'Submit Upgrade', 'Help', 'Add to Playlist',\n",
       "       'Save Settings', 'Settings', 'Thumbs Down', 'Roll Advert', 'About',\n",
       "       'Cancellation Confirmation', 'Cancel', 'Submit Downgrade',\n",
       "       'Downgrade'], dtype=object)"
      ]
     },
     "execution_count": 23,
     "metadata": {},
     "output_type": "execute_result"
    }
   ],
   "source": [
    "events_df = df_clean.groupBy(['page', 'churn']).count().toPandas()\n",
    "events_df['page'].unique()"
   ]
  },
  {
   "cell_type": "code",
   "execution_count": 24,
   "metadata": {
    "scrolled": true
   },
   "outputs": [
    {
     "name": "stderr",
     "output_type": "stream",
     "text": [
      "/opt/conda/lib/python3.6/site-packages/ipykernel_launcher.py:8: SettingWithCopyWarning: \n",
      "A value is trying to be set on a copy of a slice from a DataFrame.\n",
      "Try using .loc[row_indexer,col_indexer] = value instead\n",
      "\n",
      "See the caveats in the documentation: http://pandas.pydata.org/pandas-docs/stable/indexing.html#indexing-view-versus-copy\n",
      "  \n"
     ]
    },
    {
     "data": {
      "image/png": "[encoded data removed]",
      "text/plain": [
       "<matplotlib.figure.Figure at 0x799cb438d9b0>"
      ]
     },
     "metadata": {
      "needs_background": "light"
     },
     "output_type": "display_data"
    }
   ],
   "source": [
    "page_unique = events_df['page'].unique()\n",
    "fig, axes = plt.subplots(5,4, figsize=(30,30))\n",
    "\n",
    "for idx, value in enumerate(page_unique):\n",
    "    row = math.floor(idx/4)\n",
    "    col = idx - 4*row\n",
    "    a = events_df[events_df['page'] == value]\n",
    "    a['percent'] = a['count']/a['count'].sum(axis=0)*100\n",
    "    sns.barplot(data=a, x='churn', y='percent', ax=axes[row,col])\n",
    "    axes[row,col].set_title(value)\n",
    "    axes[row,col].set_yticks(range(0, 101, 10))"
   ]
  },
  {
   "cell_type": "markdown",
   "metadata": {},
   "source": [
    "**Users with Churn = 1:**\n",
    "- Upgrade & Submit Upgrade: A high percentage of users who churn are interacting with upgrade-related pages. This might suggest they are exploring ways to enhance their experience but may still leave due to dissatisfaction, frustration, or unfulfilled expectations after attempting an upgrade.\n",
    "- Settings & Save Settings: Interaction with settings pages (including saving settings) could indicate users trying to customize their experience. This might highlight a pain point where users feel the need to adjust settings but ultimately decide to churn.\n",
    "- Thumbs Down: The presence of \"Thumbs Down\" suggests negative feedback or dissatisfaction with content or features, which can be an important early warning sign of churn.\n",
    "- Roll Advert: A high percentage on the \"Roll Advert\" page may point to users being turned off by advertisements. This could be a key driver for their decision to leave the service.\n",
    "- Cancel & Cancellation Confirmation: The 100% churn rate on these pages is expected since users explicitly confirm their decision to leave. However, tracking the percentage of users reaching these pages can provide insights into how many were on the verge of cancellation.\n",
    "\n",
    "**Users with Churn = 0:**\n",
    "- Thumbs Up: The positive feedback page (\"Thumbs Up\") being heavily skewed towards non-churners is a good sign that content or services are appreciated, leading to retention.\n",
    "- Logout, Add Friend: High engagement on pages like \"Logout\" and \"Add Friend\" shows that users are actively interacting with their accounts and building relationships, both of which could contribute to long-term retention.\n",
    "- Home & NextSong: The “Home” and “NextSong” pages, being key interaction points, suggest that users are navigating the service smoothly, which contributes to a good experience and lowers churn risk.\n",
    "- Error Page: Non-churners may handle issues better, staying even after encountering errors.\n",
    "- Submit Downgrade: This page’s higher usage among churn = 0 users suggests that downgrading is potentially an alternative to leaving altogether, possibly helping to retain users by offering lower-cost options.\n",
    "\n",
    "**General Trend:**\n",
    "Non-churners dominate interactions across most pages, engaging more deeply with the service. Tackling issues like ads, dissatisfaction, and upgrade frustration could reduce churn, while promoting positive interactions like \"Thumbs Up\" and social features helps retain users."
   ]
  },
  {
   "cell_type": "markdown",
   "metadata": {},
   "source": [
    "# Feature Engineering\n",
    "Once you've familiarized yourself with the data, build out the features you find promising to train your model on. To work with the full dataset, you can follow the following steps.\n",
    "- Write a script to extract the necessary features from the smaller subset of data\n",
    "- Ensure that your script is scalable, using the best practices discussed in Lesson 3\n",
    "- Try your script on the full data set, debugging your script if necessary\n",
    "\n",
    "If you are working in the classroom workspace, you can just extract features based on the small subset of data contained here. Be sure to transfer over this work to the larger dataset when you work on your Spark cluster."
   ]
  },
  {
   "cell_type": "markdown",
   "metadata": {},
   "source": [
    "#### Feature total_interact and total_hours"
   ]
  },
  {
   "cell_type": "code",
   "execution_count": 25,
   "metadata": {
    "scrolled": true
   },
   "outputs": [
    {
     "name": "stdout",
     "output_type": "stream",
     "text": [
      "+------+-----+--------------+-----------+\n",
      "|userId|churn|total_interact|total_hours|\n",
      "+------+-----+--------------+-----------+\n",
      "|100010|    0|           381|       19.0|\n",
      "|200002|    0|           474|       26.0|\n",
      "|   125|    1|            11|        1.0|\n",
      "|   124|    0|          4825|      281.0|\n",
      "+------+-----+--------------+-----------+\n",
      "only showing top 4 rows\n",
      "\n"
     ]
    }
   ],
   "source": [
    "# Aggregate to get total_interact and total_hours_used\n",
    "feature1_df = df_clean.groupBy(\"userId\", \"churn\").agg(F.count(F.col(\"sessionId\")).alias(\"total_interact\"),\\\n",
    "                                                  F.sum('length').alias(\"total_second\"))\n",
    "feature1_df = feature1_df.withColumn(\"total_second\", F.round(F.col(\"total_second\")/3600))\n",
    "feature1_df = feature1_df.withColumnRenamed(\"total_second\", \"total_hours\")\n",
    "feature1_df.show(4)"
   ]
  },
  {
   "cell_type": "markdown",
   "metadata": {},
   "source": [
    "#### Feature number of some special pages in pages column \n",
    "In this feature, I will count the number of interactions for the following pages: ['Roll Advert', 'Upgrade', 'Settings', 'Thumbs Down', 'About', 'Submit Downgrade', 'Thumbs Up']. These pages were selected based on the logic that they show higher-than-normal interaction percentages for users with churn = 1, and some show high interaction for users with churn = 0"
   ]
  },
  {
   "cell_type": "code",
   "execution_count": 26,
   "metadata": {},
   "outputs": [
    {
     "name": "stdout",
     "output_type": "stream",
     "text": [
      "+----------------+\n",
      "|            page|\n",
      "+----------------+\n",
      "|Submit Downgrade|\n",
      "|     Thumbs Down|\n",
      "|     Roll Advert|\n",
      "|           About|\n",
      "|        Settings|\n",
      "|       Thumbs Up|\n",
      "|         Upgrade|\n",
      "+----------------+\n",
      "\n"
     ]
    }
   ],
   "source": [
    "# Filter just keep the pages I interested\n",
    "interest_page = ['Roll Advert', 'Upgrade', 'Settings', 'Thumbs Down', 'About', 'Submit Downgrade', 'Thumbs Up']\n",
    "feature2_df = df_clean.filter(df_clean.page.isin(interest_page))\n",
    "# Double check to correct filter\n",
    "feature2_df.select(\"page\").drop_duplicates().show()"
   ]
  },
  {
   "cell_type": "code",
   "execution_count": 27,
   "metadata": {},
   "outputs": [],
   "source": [
    "# Calculate number of rows of each page\n",
    "feature2_df = feature2_df.groupBy(\"userId\", \"page\").count().sort(\"userId\")\n",
    "# Using pivot to move each page from row to column\n",
    "feature2_df = feature2_df.groupBy(\"userId\").pivot(\"page\", interest_page).sum(\"count\")\n",
    "feature2_df = feature2_df.fillna(0)"
   ]
  },
  {
   "cell_type": "markdown",
   "metadata": {},
   "source": [
    "#### Join group of feature into final dataset"
   ]
  },
  {
   "cell_type": "code",
   "execution_count": 28,
   "metadata": {
    "scrolled": true
   },
   "outputs": [
    {
     "name": "stdout",
     "output_type": "stream",
     "text": [
      "+------+-----+--------------+-----------+-----------+-------+--------+-----------+-----+----------------+---------+\n",
      "|userId|churn|total_interact|total_hours|Roll Advert|Upgrade|Settings|Thumbs Down|About|Submit Downgrade|Thumbs Up|\n",
      "+------+-----+--------------+-----------+-----------+-------+--------+-----------+-----+----------------+---------+\n",
      "|100010|    0|           381|       19.0|         52|      2|       0|          5|    1|               0|       17|\n",
      "|200002|    0|           474|       26.0|          7|      2|       3|          6|    3|               0|       21|\n",
      "|   125|    1|            11|        1.0|          1|      0|       0|          0|    0|               0|        0|\n",
      "|   124|    0|          4825|      281.0|          4|      0|      20|         41|    7|               0|      171|\n",
      "|    51|    1|          2464|      145.0|          0|      0|      12|         21|    2|               0|      100|\n",
      "+------+-----+--------------+-----------+-----------+-------+--------+-----------+-----+----------------+---------+\n",
      "only showing top 5 rows\n",
      "\n"
     ]
    }
   ],
   "source": [
    "final_df = feature1_df.join(feature2_df, \"userId\", 'left').fillna(0)\n",
    "# print(\"Shape of feature1_df: \", (feature1_df.count(), len(feature1_df.columns)))\n",
    "# print(\"Shape of feature2_df: \", (feature2_df.count(), len(feature2_df.columns)))\n",
    "# print(\"Shape of final_df: \", (final_df.count(), len(final_df.columns)))\n",
    "final_df.show(5)"
   ]
  },
  {
   "cell_type": "markdown",
   "metadata": {},
   "source": [
    "# Modeling\n",
    "Split the full dataset into train, test, and validation sets. Test out several of the machine learning methods you learned. Evaluate the accuracy of the various models, tuning parameters as necessary. Determine your winning model based on test accuracy and report results on the validation set. Since the churned users are a fairly small subset, I suggest using F1 score as the metric to optimize."
   ]
  },
  {
   "cell_type": "markdown",
   "metadata": {},
   "source": [
    "#### Train/Test Split"
   ]
  },
  {
   "cell_type": "code",
   "execution_count": 29,
   "metadata": {},
   "outputs": [],
   "source": [
    "# Train_test_split\n",
    "final_df = final_df.drop(\"userId\")\n",
    "final_df = final_df.withColumnRenamed(\"churn\", \"label\")\n",
    "train_df, validation_df, test_df = final_df.randomSplit(weights=[0.6,0.2,0.2], seed=100)\n",
    "# print(\"Shape of final_df: \", (final_df.count(), len(final_df.columns)))\n",
    "# print(\"Shape of train_df: \", (train_df.count(), len(train_df.columns)))\n",
    "# print(\"Shape of validation_df: \", (validation_df.count(), len(validation_df.columns)))\n",
    "# print(\"Shape of test_df: \", (test_df.count(), len(test_df.columns)))"
   ]
  },
  {
   "cell_type": "markdown",
   "metadata": {},
   "source": [
    "#### Define Preprocessing vs Evaluator"
   ]
  },
  {
   "cell_type": "code",
   "execution_count": 30,
   "metadata": {},
   "outputs": [],
   "source": [
    "# Preprocessing\n",
    "feature_cols = final_df.columns[1:]\n",
    "assembler = VectorAssembler(inputCols = feature_cols, outputCol = \"feature_vector\")\n",
    "scaler = StandardScaler(inputCol=\"feature_vector\", outputCol=\"features_scale_vector\", withStd=True)\n",
    "\n",
    "# Initalize evaluator\n",
    "evaluator = MulticlassClassificationEvaluator(labelCol = 'label', predictionCol='prediction')"
   ]
  },
  {
   "cell_type": "markdown",
   "metadata": {},
   "source": [
    "#### Define model"
   ]
  },
  {
   "cell_type": "code",
   "execution_count": 31,
   "metadata": {},
   "outputs": [],
   "source": [
    "# Configuration model\n",
    "lr = LogisticRegression(featuresCol = 'features_scale_vector', labelCol = 'label')\n",
    "rf = RandomForestClassifier(featuresCol = 'features_scale_vector', labelCol = 'label')"
   ]
  },
  {
   "cell_type": "code",
   "execution_count": 32,
   "metadata": {},
   "outputs": [],
   "source": [
    "# Configuration pipeline\n",
    "lr_pipeline = Pipeline(stages=[assembler, scaler, lr])\n",
    "rf_pipeline = Pipeline(stages=[assembler, scaler, rf])"
   ]
  },
  {
   "cell_type": "markdown",
   "metadata": {},
   "source": [
    "**Logistic Regression**"
   ]
  },
  {
   "cell_type": "code",
   "execution_count": 36,
   "metadata": {},
   "outputs": [],
   "source": [
    "# A CrossValidator requires an Estimator, a set of Estimator ParamMaps, and an Evaluator.\n",
    "# We use a ParamGridBuilder to construct a grid of parameters to search over.\n",
    "lr_paramGrid = ParamGridBuilder() \\\n",
    "    .addGrid(lr.regParam, [0.1, 0.01]) \\\n",
    "    .build()\n",
    "\n",
    "lr_crossval = CrossValidator(estimator=lr_pipeline,\n",
    "                          estimatorParamMaps=lr_paramGrid,\n",
    "                          evaluator=BinaryClassificationEvaluator(),\n",
    "                          numFolds=2)\n",
    "# Run cross-validation, and choose the best set of parameters.\n",
    "lr_cvModel = lr_crossval.fit(train_df)"
   ]
  },
  {
   "cell_type": "markdown",
   "metadata": {},
   "source": [
    "**Random Forest**"
   ]
  },
  {
   "cell_type": "code",
   "execution_count": 37,
   "metadata": {},
   "outputs": [],
   "source": [
    "# A CrossValidator requires an Estimator, a set of Estimator ParamMaps, and an Evaluator.\n",
    "# We use a ParamGridBuilder to construct a grid of parameters to search over.\n",
    "rf_paramGrid = ParamGridBuilder() \\\n",
    "    .addGrid(rf.numTrees, [10, 20]) \\\n",
    "    .build()\n",
    "\n",
    "rf_crossval = CrossValidator(estimator=rf_pipeline,\n",
    "                          estimatorParamMaps=rf_paramGrid,\n",
    "                          evaluator=BinaryClassificationEvaluator(),\n",
    "                          numFolds=2)\n",
    "# Run cross-validation, and choose the best set of parameters.\n",
    "rf_cvModel = rf_crossval.fit(train_df)"
   ]
  },
  {
   "cell_type": "markdown",
   "metadata": {},
   "source": [
    "#### Evaluate"
   ]
  },
  {
   "cell_type": "markdown",
   "metadata": {},
   "source": [
    "When there is a big gap between churn = 0 and churn = 1, this indicates class imbalance where one class (usually churn = 0) dominates the dataset. In such cases, accuracy can be misleading. For example, if 90% of users don't churn, a model that predicts \"no churn\" for every user will have 90% accuracy but fail to identify the actual churners.\n",
    "\n",
    "So that, in this case I think we bus me using F1 score because churn prediction is about correctly identifying churners (churn = 1), and F1 score ensures the model performs well on this minority class, making it a better choice than accuracy."
   ]
  },
  {
   "cell_type": "code",
   "execution_count": 40,
   "metadata": {},
   "outputs": [
    {
     "name": "stdout",
     "output_type": "stream",
     "text": [
      "Logistic Regression Model\n",
      "F1 for Logistic Regression is: 0.5432816537467701\n",
      "Random Forest Model\n",
      "F1 for Logistic Regression is: 0.5802325581395349\n"
     ]
    }
   ],
   "source": [
    "# Evaluate Logistic Regression\n",
    "lr_prediction = lr_cvModel.transform(validation_df)\n",
    "print(\"Logistic Regression Model\")\n",
    "print('F1 for Logistic Regression is:', evaluator.evaluate(lr_prediction, {evaluator.metricName: \"f1\"}))\n",
    "\n",
    "# Evaluate Random Forest\n",
    "rf_prediction = rf_cvModel.transform(validation_df)\n",
    "print(\"Random Forest Model\")\n",
    "print('F1 for Logistic Regression is:', evaluator.evaluate(rf_prediction, {evaluator.metricName: \"f1\"}))"
   ]
  },
  {
   "cell_type": "markdown",
   "metadata": {},
   "source": [
    "Now, we can see that Random Forest is the best model!!!\n",
    "\n",
    "It's easy to understand because Random Forest has many advantages compared to logistic regression, including model complexity, the ability to capture non-linear data, and better generalization."
   ]
  },
  {
   "cell_type": "markdown",
   "metadata": {},
   "source": [
    "#### Retrain to the whole training set"
   ]
  },
  {
   "cell_type": "code",
   "execution_count": 41,
   "metadata": {},
   "outputs": [
    {
     "name": "stdout",
     "output_type": "stream",
     "text": [
      "The final results when using Random Forest models\n",
      "F1 for Logistic Regression is: 0.6342383107088989\n"
     ]
    }
   ],
   "source": [
    "# Uninon to get the whole data except testing dataset\n",
    "train_val_df = train_df.union(validation_df)\n",
    "\n",
    "# Recreate model and train again\n",
    "rf = RandomForestClassifier(featuresCol = 'features_scale_vector', labelCol = 'label', numTrees=20)\n",
    "rf_pipeline = Pipeline(stages=[assembler, scaler, rf])\n",
    "model = rf_pipeline.fit(train_val_df)\n",
    "\n",
    "# Evaluate\n",
    "predictions = model.transform(test_df)\n",
    "print(\"The final results when using Random Forest models\")\n",
    "print('F1 for Logistic Regression is:', evaluator.evaluate(predictions, {evaluator.metricName: \"f1\"}))"
   ]
  },
  {
   "cell_type": "markdown",
   "metadata": {},
   "source": [
    "# Conclusion"
   ]
  },
  {
   "cell_type": "markdown",
   "metadata": {},
   "source": [
    "#### Business Impact:\n",
    "\n",
    "Our analysis provides valuable insights for Sparkify to address user churn. The page interaction analysis reveals several key areas for improvement:\n",
    "\n",
    "Customization and UI Enhancements: The high percentage of churners interacting with pages like \"Settings\" and \"Save Settings\" suggests that users are actively trying to adjust their experience. Sparkify could focus on enhancing the customization options and improving the user interface to make settings more intuitive and user-friendly.\n",
    "\n",
    "Content Enrichment: Users who churn often engage with upgrade-related pages. This indicates a potential gap in content or feature offerings. By expanding and diversifying content, Sparkify could better meet user needs and expectations, reducing churn.\n",
    "\n",
    "Advert Effectiveness: The high interaction with \"Roll Advert\" among churners suggests that ads may negatively impact user experience. Reducing ad frequency or improving ad relevance could enhance user satisfaction and retention.\n",
    "\n",
    "#### Difficulty:\n",
    "\n",
    "Working with PySpark for machine learning was a new experience, presenting a learning curve. The challenges mainly involved data transformations and integrating machine learning workflows. However, overcoming these difficulties has been rewarding and has enhanced my skills in handling large-scale data processing and analysis.\n",
    "\n",
    "#### Future Implications:\n",
    "\n",
    "The current model's performance indicates room for improvement. Future work will focus on refining the model to achieve better accuracy and F1 scores. Additionally, further analysis will explore advanced techniques and feature engineering to enhance predictive accuracy and provide deeper insights into user behavior."
   ]
  },
  {
   "cell_type": "markdown",
   "metadata": {},
   "source": [
    "# Final Steps\n",
    "Clean up your code, adding comments and renaming variables to make the code easier to read and maintain. Refer to the Spark Project Overview page and Data Scientist Capstone Project Rubric to make sure you are including all components of the capstone project and meet all expectations. Remember, this includes thorough documentation in a README file in a Github repository, as well as a web app or blog post."
   ]
  },
  {
   "cell_type": "code",
   "execution_count": null,
   "metadata": {},
   "outputs": [],
   "source": []
  },
  {
   "cell_type": "markdown",
   "metadata": {},
   "source": [
    "### Reference"
   ]
  },
  {
   "cell_type": "markdown",
   "metadata": {},
   "source": [
    "- https://accredianpublication.medium.com/eda-with-pyspark-1f29b7d1618\n",
    "- https://spark.apache.org/docs/latest/ml-tuning.html"
   ]
  },
  {
   "cell_type": "code",
   "execution_count": null,
   "metadata": {},
   "outputs": [],
   "source": []
  }
 ],
 "metadata": {
  "kernelspec": {
   "display_name": "Python 3",
   "language": "python",
   "name": "python3"
  },
  "language_info": {
   "codemirror_mode": {
    "name": "ipython",
    "version": 3
   },
   "file_extension": ".py",
   "mimetype": "text/x-python",
   "name": "python",
   "nbconvert_exporter": "python",
   "pygments_lexer": "ipython3",
   "version": "3.6.3"
  }
 },
 "nbformat": 4,
 "nbformat_minor": 2
}
